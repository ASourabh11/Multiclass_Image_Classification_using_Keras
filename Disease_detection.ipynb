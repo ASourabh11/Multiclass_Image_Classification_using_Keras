{
 "cells": [
  {
   "cell_type": "markdown",
   "metadata": {},
   "source": [
    "## Multiclass Image classification using Convolutional Neural Network for Plant disease Identification\n",
    "\n",
    "- In this project I have used dataset of Tomato leaf images from kaggle.\n",
    "- This dataset contains 17943 training images and 4487 test images, which are classified in 10 categories\n",
    "- To train this model I have used Convolutional neral network\n",
    "- With CNN I have achieved 91% training accuracy in image classification\n",
    "- After training and validation of model I have predicted the results for new images directly from Google."
   ]
  },
  {
   "cell_type": "markdown",
   "metadata": {},
   "source": [
    "## 1. Importing training and test dataset"
   ]
  },
  {
   "cell_type": "code",
   "execution_count": 1,
   "metadata": {
    "collapsed": true
   },
   "outputs": [],
   "source": [
    "from tensorflow.keras.preprocessing.image import ImageDataGenerator\n",
    "from tensorflow.keras.layers import Dense, Activation, Conv2D, MaxPool2D, Flatten "
   ]
  },
  {
   "cell_type": "markdown",
   "metadata": {},
   "source": [
    "**1.1 Image data Augmentation for training data using ImageDataGenerator**"
   ]
  },
  {
   "cell_type": "code",
   "execution_count": 29,
   "metadata": {},
   "outputs": [],
   "source": [
    "training_Datagenerator = ImageDataGenerator(\n",
    "        rescale=1./255,\n",
    "        shear_range=0.2,\n",
    "        zoom_range=0.2,\n",
    "        horizontal_flip=True)"
   ]
  },
  {
   "cell_type": "markdown",
   "metadata": {},
   "source": [
    "**1.2 Importing Training dataset with target size of 68*68**"
   ]
  },
  {
   "cell_type": "code",
   "execution_count": 30,
   "metadata": {},
   "outputs": [
    {
     "name": "stdout",
     "output_type": "stream",
     "text": [
      "Found 17943 images belonging to 10 classes.\n"
     ]
    }
   ],
   "source": [
    "train_set = training_Datagenerator.flow_from_directory('plant_Diseases_data/train', \n",
    "                                                       atarget_size=(68, 68),batch_size=32,class_mode='categorical')"
   ]
  },
  {
   "cell_type": "code",
   "execution_count": 31,
   "metadata": {},
   "outputs": [],
   "source": [
    "testdata_generator = ImageDataGenerator(rescale=1./255)"
   ]
  },
  {
   "cell_type": "markdown",
   "metadata": {},
   "source": [
    "**1.3 Importing test dataset with target size of 68*68**"
   ]
  },
  {
   "cell_type": "code",
   "execution_count": 32,
   "metadata": {},
   "outputs": [
    {
     "name": "stdout",
     "output_type": "stream",
     "text": [
      "Found 4487 images belonging to 10 classes.\n"
     ]
    }
   ],
   "source": [
    "test_set = testdata_generator.flow_from_directory('plant_Diseases_data/test', target_size=(68, 68),\n",
    "        batch_size=32,\n",
    "        class_mode='categorical')"
   ]
  },
  {
   "cell_type": "markdown",
   "metadata": {},
   "source": [
    "## 2. Building the model"
   ]
  },
  {
   "cell_type": "markdown",
   "metadata": {},
   "source": [
    "**2.1 Importing Sequential class from keras to initialize the model**"
   ]
  },
  {
   "cell_type": "code",
   "execution_count": 33,
   "metadata": {},
   "outputs": [],
   "source": [
    "from tensorflow.keras.models import Sequential\n",
    "model = Sequential()"
   ]
  },
  {
   "cell_type": "markdown",
   "metadata": {},
   "source": [
    "**2.2 Adding convolutional layer with 50 filter maps, with 3*3 matrix**"
   ]
  },
  {
   "cell_type": "code",
   "execution_count": 34,
   "metadata": {},
   "outputs": [],
   "source": [
    "model.add(Conv2D(filters = 50, kernel_size = 3, padding='valid',activation='relu', input_shape=[68, 68, 3]))"
   ]
  },
  {
   "cell_type": "markdown",
   "metadata": {},
   "source": [
    "**2.3 Pooling with 2*2 matrix and 1 stride**"
   ]
  },
  {
   "cell_type": "code",
   "execution_count": 35,
   "metadata": {},
   "outputs": [],
   "source": [
    "model.add(MaxPool2D(pool_size=(2, 2), strides=1, padding='valid'))"
   ]
  },
  {
   "cell_type": "markdown",
   "metadata": {},
   "source": [
    "**2.4 Flattening**"
   ]
  },
  {
   "cell_type": "code",
   "execution_count": 36,
   "metadata": {},
   "outputs": [],
   "source": [
    "model.add(Flatten())"
   ]
  },
  {
   "cell_type": "markdown",
   "metadata": {},
   "source": [
    "**2.5 Full connection**"
   ]
  },
  {
   "cell_type": "code",
   "execution_count": 37,
   "metadata": {},
   "outputs": [],
   "source": [
    "model.add(Dense(units= 120,activation='relu'))\n",
    "model.add(Dense(units= 120,activation='relu'))"
   ]
  },
  {
   "cell_type": "markdown",
   "metadata": {},
   "source": [
    "**2.6 FInal output layer**"
   ]
  },
  {
   "cell_type": "code",
   "execution_count": 38,
   "metadata": {},
   "outputs": [],
   "source": [
    "model.add(Dense(units= 10,activation='softmax'))"
   ]
  },
  {
   "cell_type": "markdown",
   "metadata": {},
   "source": [
    "## 3. Model Training"
   ]
  },
  {
   "cell_type": "markdown",
   "metadata": {},
   "source": [
    "**3.1 Compiling the model**"
   ]
  },
  {
   "cell_type": "code",
   "execution_count": 39,
   "metadata": {},
   "outputs": [],
   "source": [
    "model.compile(optimizer='adam', loss='categorical_crossentropy', metrics=['accuracy'])"
   ]
  },
  {
   "cell_type": "markdown",
   "metadata": {},
   "source": [
    "**3.2 Training the CNN on the Training set and evaluating it on the Test set**"
   ]
  },
  {
   "cell_type": "code",
   "execution_count": 40,
   "metadata": {},
   "outputs": [
    {
     "name": "stdout",
     "output_type": "stream",
     "text": [
      "Epoch 1/10\n",
      "561/561 [==============================] - 773s 1s/step - loss: 1.1798 - accuracy: 0.6238 - val_loss: 0.8247 - val_accuracy: 0.7243\n",
      "Epoch 2/10\n",
      "561/561 [==============================] - 585s 1s/step - loss: 0.5908 - accuracy: 0.7962 - val_loss: 0.9783 - val_accuracy: 0.6878\n",
      "Epoch 3/10\n",
      "561/561 [==============================] - 606s 1s/step - loss: 0.4554 - accuracy: 0.8449 - val_loss: 0.6433 - val_accuracy: 0.7832\n",
      "Epoch 4/10\n",
      "561/561 [==============================] - 541s 965ms/step - loss: 0.4033 - accuracy: 0.8621 - val_loss: 0.5074 - val_accuracy: 0.8355\n",
      "Epoch 5/10\n",
      "561/561 [==============================] - 515s 917ms/step - loss: 0.3489 - accuracy: 0.8792 - val_loss: 0.7483 - val_accuracy: 0.7782\n",
      "Epoch 6/10\n",
      "561/561 [==============================] - 399s 710ms/step - loss: 0.3247 - accuracy: 0.8882 - val_loss: 1.2131 - val_accuracy: 0.6969\n",
      "Epoch 7/10\n",
      "561/561 [==============================] - 402s 717ms/step - loss: 0.3135 - accuracy: 0.8905 - val_loss: 0.6942 - val_accuracy: 0.7910\n",
      "Epoch 8/10\n",
      "561/561 [==============================] - 402s 717ms/step - loss: 0.2696 - accuracy: 0.9089 - val_loss: 0.4020 - val_accuracy: 0.8638\n",
      "Epoch 9/10\n",
      "561/561 [==============================] - 399s 712ms/step - loss: 0.2619 - accuracy: 0.9080 - val_loss: 0.8057 - val_accuracy: 0.7858\n",
      "Epoch 10/10\n",
      "561/561 [==============================] - 406s 724ms/step - loss: 0.2544 - accuracy: 0.9123 - val_loss: 0.5475 - val_accuracy: 0.8322\n"
     ]
    },
    {
     "data": {
      "text/plain": [
       "<tensorflow.python.keras.callbacks.History at 0x23b2fec8>"
      ]
     },
     "execution_count": 40,
     "metadata": {},
     "output_type": "execute_result"
    }
   ],
   "source": [
    "model.fit(x=train_set,\n",
    "    batch_size=16,\n",
    "    epochs=10,\n",
    "    validation_data=test_set)"
   ]
  },
  {
   "cell_type": "markdown",
   "metadata": {},
   "source": [
    "**Achieved 91% training accuracy and 83% validation accuracy**"
   ]
  },
  {
   "cell_type": "markdown",
   "metadata": {},
   "source": [
    "## 4. Saving the model"
   ]
  },
  {
   "cell_type": "code",
   "execution_count": 41,
   "metadata": {},
   "outputs": [
    {
     "name": "stdout",
     "output_type": "stream",
     "text": [
      "WARNING:tensorflow:From c:\\python37\\lib\\site-packages\\tensorflow\\python\\training\\tracking\\tracking.py:111: Model.state_updates (from tensorflow.python.keras.engine.training) is deprecated and will be removed in a future version.\n",
      "Instructions for updating:\n",
      "This property should not be used in TensorFlow 2.0, as updates are applied automatically.\n",
      "WARNING:tensorflow:From c:\\python37\\lib\\site-packages\\tensorflow\\python\\training\\tracking\\tracking.py:111: Layer.updates (from tensorflow.python.keras.engine.base_layer) is deprecated and will be removed in a future version.\n",
      "Instructions for updating:\n",
      "This property should not be used in TensorFlow 2.0, as updates are applied automatically.\n",
      "INFO:tensorflow:Assets written to: Diease_predictotor\\assets\n"
     ]
    }
   ],
   "source": [
    "model.save('Diease_predictotor')"
   ]
  },
  {
   "cell_type": "markdown",
   "metadata": {},
   "source": [
    "## 5. Loading the saved model to predict the class for new images"
   ]
  },
  {
   "cell_type": "markdown",
   "metadata": {},
   "source": [
    "**5.1 Imprting load_model object for loading the saved model** "
   ]
  },
  {
   "cell_type": "code",
   "execution_count": 48,
   "metadata": {},
   "outputs": [],
   "source": [
    "from tensorflow.keras.models import load_model"
   ]
  },
  {
   "cell_type": "code",
   "execution_count": 49,
   "metadata": {},
   "outputs": [],
   "source": [
    "saved_model = load_model('Diease_predictotor')"
   ]
  },
  {
   "cell_type": "markdown",
   "metadata": {},
   "source": [
    "**5.2 Importing new images using load_img object for classification, Importing image of healthy leaf**"
   ]
  },
  {
   "cell_type": "code",
   "execution_count": 81,
   "metadata": {},
   "outputs": [
    {
     "data": {
      "image/png": "[encoded data removed]",
      "text/plain": [
       "<PIL.Image.Image image mode=RGB size=68x68 at 0x28556988>"
      ]
     },
     "execution_count": 81,
     "metadata": {},
     "output_type": "execute_result"
    }
   ],
   "source": [
    "import numpy as np\n",
    "from tensorflow.keras.preprocessing import image\n",
    "test_image = image.load_img('newdata/data/test6.png', target_size = (68, 68))\n",
    "test_image"
   ]
  },
  {
   "cell_type": "code",
   "execution_count": 82,
   "metadata": {},
   "outputs": [],
   "source": [
    "test_image = image.img_to_array(test_image)\n",
    "test_image = np.expand_dims(test_image, axis = 0)\n",
    "result = saved_model.predict(test_image)\n",
    "new_prediction = np.argmax(result,axis=1)"
   ]
  },
  {
   "cell_type": "code",
   "execution_count": 83,
   "metadata": {},
   "outputs": [
    {
     "name": "stdout",
     "output_type": "stream",
     "text": [
      "This leaf is Healthy\n"
     ]
    }
   ],
   "source": [
    "if new_prediction[0] == 0:\n",
    "    print('leaf has Bacterial spots')\n",
    "    \n",
    "elif new_prediction[0] == 1:\n",
    "    print('This leaf has Early blight')\n",
    "    \n",
    "elif new_prediction[0] == 2:\n",
    "    print('This leaf has late blight')\n",
    "    \n",
    "elif new_prediction[0] == 3:\n",
    "    print('This leaf has mold')\n",
    "    \n",
    "elif new_prediction[0] == 4:\n",
    "    print('This leaf has Septoria spots')\n",
    "    \n",
    "elif new_prediction[0] == 5:\n",
    "    print('This leaf has Two-spotted_spider_mite')\n",
    "    \n",
    "elif new_prediction[0] == 6:\n",
    "    print('This leaf has Target_Spot')\n",
    "    \n",
    "elif new_prediction[0] == 7:\n",
    "    print('This leaf has Curl_Virus')\n",
    "    \n",
    "elif new_prediction[0] == 8:\n",
    "    print('This leaf has mosaic_virus')\n",
    "    \n",
    "elif new_prediction[0] == 9:\n",
    "    print('This leaf is Healthy')"
   ]
  },
  {
   "cell_type": "markdown",
   "metadata": {},
   "source": [
    "**5.3 Importing Image of leaf with Septoria spots**"
   ]
  },
  {
   "cell_type": "code",
   "execution_count": 84,
   "metadata": {},
   "outputs": [
    {
     "data": {
      "image/png": "[encoded data removed]",
      "text/plain": [
       "<PIL.Image.Image image mode=RGB size=68x68 at 0x27BB4488>"
      ]
     },
     "execution_count": 84,
     "metadata": {},
     "output_type": "execute_result"
    }
   ],
   "source": [
    "import numpy as np\n",
    "from tensorflow.keras.preprocessing import image\n",
    "test_image = image.load_img('newdata/data/test1.jpg', target_size = (68, 68))\n",
    "test_image"
   ]
  },
  {
   "cell_type": "code",
   "execution_count": 85,
   "metadata": {},
   "outputs": [],
   "source": [
    "test_image = image.img_to_array(test_image)\n",
    "test_image = np.expand_dims(test_image, axis = 0)\n",
    "result = saved_model.predict(test_image)\n",
    "new_prediction = np.argmax(result,axis=1)"
   ]
  },
  {
   "cell_type": "code",
   "execution_count": 86,
   "metadata": {},
   "outputs": [
    {
     "name": "stdout",
     "output_type": "stream",
     "text": [
      "This leaf has Septoria spots\n"
     ]
    }
   ],
   "source": [
    "if new_prediction[0] == 0:\n",
    "    print('leaf has Bacterial spots')\n",
    "    \n",
    "elif new_prediction[0] == 1:\n",
    "    print('This leaf has Early blight')\n",
    "    \n",
    "elif new_prediction[0] == 2:\n",
    "    print('This leaf has late blight')\n",
    "    \n",
    "elif new_prediction[0] == 3:\n",
    "    print('This leaf has mold')\n",
    "    \n",
    "elif new_prediction[0] == 4:\n",
    "    print('This leaf has Septoria spots')\n",
    "    \n",
    "elif new_prediction[0] == 5:\n",
    "    print('This leaf has Two-spotted_spider_mite')\n",
    "    \n",
    "elif new_prediction[0] == 6:\n",
    "    print('This leaf has Target_Spot')\n",
    "    \n",
    "elif new_prediction[0] == 7:\n",
    "    print('This leaf has Curl_Virus')\n",
    "    \n",
    "elif new_prediction[0] == 8:\n",
    "    print('This leaf has mosaic_virus')\n",
    "    \n",
    "elif new_prediction[0] == 9:\n",
    "    print('This leaf is Healthy')"
   ]
  },
  {
   "cell_type": "markdown",
   "metadata": {},
   "source": [
    "**5.4 Importing Image of leaf with late blight**"
   ]
  },
  {
   "cell_type": "code",
   "execution_count": 87,
   "metadata": {},
   "outputs": [
    {
     "data": {
      "image/png": "[encoded data removed]",
      "text/plain": [
       "<PIL.Image.Image image mode=RGB size=68x68 at 0x28053848>"
      ]
     },
     "execution_count": 87,
     "metadata": {},
     "output_type": "execute_result"
    }
   ],
   "source": [
    "import numpy as np\n",
    "from tensorflow.keras.preprocessing import image\n",
    "test_image = image.load_img('newdata/data/test2.jpg', target_size = (68, 68))\n",
    "test_image\n"
   ]
  },
  {
   "cell_type": "code",
   "execution_count": 88,
   "metadata": {},
   "outputs": [],
   "source": [
    "test_image = image.img_to_array(test_image)\n",
    "test_image = np.expand_dims(test_image, axis = 0)\n",
    "result = saved_model.predict(test_image)\n",
    "new_prediction = np.argmax(result,axis=1)"
   ]
  },
  {
   "cell_type": "code",
   "execution_count": 89,
   "metadata": {},
   "outputs": [
    {
     "name": "stdout",
     "output_type": "stream",
     "text": [
      "This leaf has late blight\n"
     ]
    }
   ],
   "source": [
    "if new_prediction[0] == 0:\n",
    "    print('leaf has Bacterial spots')\n",
    "    \n",
    "elif new_prediction[0] == 1:\n",
    "    print('This leaf has Early blight')\n",
    "    \n",
    "elif new_prediction[0] == 2:\n",
    "    print('This leaf has late blight')\n",
    "    \n",
    "elif new_prediction[0] == 3:\n",
    "    print('This leaf has mold')\n",
    "    \n",
    "elif new_prediction[0] == 4:\n",
    "    print('This leaf has Septoria spots')\n",
    "    \n",
    "elif new_prediction[0] == 5:\n",
    "    print('This leaf has Two-spotted_spider_mite')\n",
    "    \n",
    "elif new_prediction[0] == 6:\n",
    "    print('This leaf has Target_Spot')\n",
    "    \n",
    "elif new_prediction[0] == 7:\n",
    "    print('This leaf has Curl_Virus')\n",
    "    \n",
    "elif new_prediction[0] == 8:\n",
    "    print('This leaf has mosaic_virus')\n",
    "    \n",
    "elif new_prediction[0] == 9:\n",
    "    print('This leaf is Healthy')"
   ]
  }
 ],
 "metadata": {
  "kernelspec": {
   "display_name": "Python 3",
   "language": "python",
   "name": "python3"
  },
  "language_info": {
   "codemirror_mode": {
    "name": "ipython",
    "version": 3
   },
   "file_extension": ".py",
   "mimetype": "text/x-python",
   "name": "python",
   "nbconvert_exporter": "python",
   "pygments_lexer": "ipython3",
   "version": "3.7.6"
  }
 },
 "nbformat": 4,
 "nbformat_minor": 4
}
